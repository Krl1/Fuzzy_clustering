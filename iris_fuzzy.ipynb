{
  "cells": [
    {
      "cell_type": "code",
      "execution_count": 1,
      "metadata": {
        "id": "g9DViOXITOma"
      },
      "outputs": [],
      "source": [
        "import matplotlib.pyplot as plt\n",
        "from mpl_toolkits.mplot3d import Axes3D\n",
        "from sklearn import datasets\n",
        "from sklearn.decomposition import PCA\n",
        "from fuzzy_expert.variable import FuzzyVariable\n",
        "from sklearn.model_selection import train_test_split\n",
        "import numpy as np\n",
        "import pandas as pd\n",
        "from pandas_profiling import ProfileReport\n",
        "\n",
        "# import some data to play with\n",
        "iris = datasets.load_iris()"
      ]
    },
    {
      "cell_type": "code",
      "execution_count": 2,
      "metadata": {
        "colab": {
          "base_uri": "https://localhost:8080/"
        },
        "id": "jB_qDgIaTPQW",
        "outputId": "5a21e54c-ee5a-463b-9d68-98ba9257f58c"
      },
      "outputs": [
        {
          "data": {
            "text/plain": [
              "['sepal length (cm)',\n",
              " 'sepal width (cm)',\n",
              " 'petal length (cm)',\n",
              " 'petal width (cm)']"
            ]
          },
          "execution_count": 2,
          "metadata": {},
          "output_type": "execute_result"
        }
      ],
      "source": [
        "iris.feature_names"
      ]
    },
    {
      "cell_type": "code",
      "execution_count": 19,
      "metadata": {
        "id": "QmovsO8IU1mx"
      },
      "outputs": [],
      "source": [
        "df = pd.DataFrame(data= np.c_[iris['data'], iris['target']], columns= iris['feature_names'] + ['target'])"
      ]
    },
    {
      "cell_type": "code",
      "execution_count": 20,
      "metadata": {},
      "outputs": [
        {
          "data": {
            "text/html": [
              "<div>\n",
              "<style scoped>\n",
              "    .dataframe tbody tr th:only-of-type {\n",
              "        vertical-align: middle;\n",
              "    }\n",
              "\n",
              "    .dataframe tbody tr th {\n",
              "        vertical-align: top;\n",
              "    }\n",
              "\n",
              "    .dataframe thead th {\n",
              "        text-align: right;\n",
              "    }\n",
              "</style>\n",
              "<table border=\"1\" class=\"dataframe\">\n",
              "  <thead>\n",
              "    <tr style=\"text-align: right;\">\n",
              "      <th></th>\n",
              "      <th>sepal length (cm)</th>\n",
              "      <th>sepal width (cm)</th>\n",
              "      <th>petal length (cm)</th>\n",
              "      <th>petal width (cm)</th>\n",
              "      <th>target</th>\n",
              "    </tr>\n",
              "  </thead>\n",
              "  <tbody>\n",
              "    <tr>\n",
              "      <th>0</th>\n",
              "      <td>5.1</td>\n",
              "      <td>3.5</td>\n",
              "      <td>1.4</td>\n",
              "      <td>0.2</td>\n",
              "      <td>0.0</td>\n",
              "    </tr>\n",
              "    <tr>\n",
              "      <th>1</th>\n",
              "      <td>4.9</td>\n",
              "      <td>3.0</td>\n",
              "      <td>1.4</td>\n",
              "      <td>0.2</td>\n",
              "      <td>0.0</td>\n",
              "    </tr>\n",
              "    <tr>\n",
              "      <th>2</th>\n",
              "      <td>4.7</td>\n",
              "      <td>3.2</td>\n",
              "      <td>1.3</td>\n",
              "      <td>0.2</td>\n",
              "      <td>0.0</td>\n",
              "    </tr>\n",
              "    <tr>\n",
              "      <th>3</th>\n",
              "      <td>4.6</td>\n",
              "      <td>3.1</td>\n",
              "      <td>1.5</td>\n",
              "      <td>0.2</td>\n",
              "      <td>0.0</td>\n",
              "    </tr>\n",
              "    <tr>\n",
              "      <th>4</th>\n",
              "      <td>5.0</td>\n",
              "      <td>3.6</td>\n",
              "      <td>1.4</td>\n",
              "      <td>0.2</td>\n",
              "      <td>0.0</td>\n",
              "    </tr>\n",
              "    <tr>\n",
              "      <th>...</th>\n",
              "      <td>...</td>\n",
              "      <td>...</td>\n",
              "      <td>...</td>\n",
              "      <td>...</td>\n",
              "      <td>...</td>\n",
              "    </tr>\n",
              "    <tr>\n",
              "      <th>145</th>\n",
              "      <td>6.7</td>\n",
              "      <td>3.0</td>\n",
              "      <td>5.2</td>\n",
              "      <td>2.3</td>\n",
              "      <td>2.0</td>\n",
              "    </tr>\n",
              "    <tr>\n",
              "      <th>146</th>\n",
              "      <td>6.3</td>\n",
              "      <td>2.5</td>\n",
              "      <td>5.0</td>\n",
              "      <td>1.9</td>\n",
              "      <td>2.0</td>\n",
              "    </tr>\n",
              "    <tr>\n",
              "      <th>147</th>\n",
              "      <td>6.5</td>\n",
              "      <td>3.0</td>\n",
              "      <td>5.2</td>\n",
              "      <td>2.0</td>\n",
              "      <td>2.0</td>\n",
              "    </tr>\n",
              "    <tr>\n",
              "      <th>148</th>\n",
              "      <td>6.2</td>\n",
              "      <td>3.4</td>\n",
              "      <td>5.4</td>\n",
              "      <td>2.3</td>\n",
              "      <td>2.0</td>\n",
              "    </tr>\n",
              "    <tr>\n",
              "      <th>149</th>\n",
              "      <td>5.9</td>\n",
              "      <td>3.0</td>\n",
              "      <td>5.1</td>\n",
              "      <td>1.8</td>\n",
              "      <td>2.0</td>\n",
              "    </tr>\n",
              "  </tbody>\n",
              "</table>\n",
              "<p>150 rows × 5 columns</p>\n",
              "</div>"
            ],
            "text/plain": [
              "     sepal length (cm)  sepal width (cm)  petal length (cm)  petal width (cm)  \\\n",
              "0                  5.1               3.5                1.4               0.2   \n",
              "1                  4.9               3.0                1.4               0.2   \n",
              "2                  4.7               3.2                1.3               0.2   \n",
              "3                  4.6               3.1                1.5               0.2   \n",
              "4                  5.0               3.6                1.4               0.2   \n",
              "..                 ...               ...                ...               ...   \n",
              "145                6.7               3.0                5.2               2.3   \n",
              "146                6.3               2.5                5.0               1.9   \n",
              "147                6.5               3.0                5.2               2.0   \n",
              "148                6.2               3.4                5.4               2.3   \n",
              "149                5.9               3.0                5.1               1.8   \n",
              "\n",
              "     target  \n",
              "0       0.0  \n",
              "1       0.0  \n",
              "2       0.0  \n",
              "3       0.0  \n",
              "4       0.0  \n",
              "..      ...  \n",
              "145     2.0  \n",
              "146     2.0  \n",
              "147     2.0  \n",
              "148     2.0  \n",
              "149     2.0  \n",
              "\n",
              "[150 rows x 5 columns]"
            ]
          },
          "execution_count": 20,
          "metadata": {},
          "output_type": "execute_result"
        }
      ],
      "source": [
        "df"
      ]
    },
    {
      "cell_type": "code",
      "execution_count": 4,
      "metadata": {
        "colab": {
          "base_uri": "https://localhost:8080/",
          "height": 168
        },
        "id": "D7h9lelXTdfV",
        "outputId": "b5ac8e72-fb1e-4873-bfa6-a2ad1b23db42"
      },
      "outputs": [],
      "source": [
        "profile = ProfileReport(df, title=\"Pandas Profiling Report\")"
      ]
    },
    {
      "cell_type": "code",
      "execution_count": 5,
      "metadata": {
        "id": "Suo_Ckai9NWn"
      },
      "outputs": [],
      "source": [
        "%matplotlib inline"
      ]
    },
    {
      "cell_type": "code",
      "execution_count": 6,
      "metadata": {
        "colab": {
          "base_uri": "https://localhost:8080/",
          "height": 281
        },
        "id": "R5HWqi0xWbqJ",
        "outputId": "3d408ecb-996a-49f5-fdf0-98b5d5a3e09c"
      },
      "outputs": [
        {
          "data": {
            "image/png": "[encoded data removed]",
            "text/plain": [
              "<Figure size 432x288 with 1 Axes>"
            ]
          },
          "metadata": {
            "needs_background": "light"
          },
          "output_type": "display_data"
        }
      ],
      "source": [
        "import numpy as np\n",
        "from scipy.stats import norm\n",
        "import matplotlib.pyplot as plt\n",
        "\n",
        "\n",
        "# Generate some data for this demonstration.\n",
        "data = iris.data[:,0]\n",
        "# data = iris.target\n",
        "\n",
        "# Fit a normal distribution to the data:\n",
        "mu, std = norm.fit(data)\n",
        "\n",
        "# Plot the histogram.\n",
        "plt.hist(data, bins=25, density=True, alpha=0.6, color='g')\n",
        "\n",
        "# Plot the PDF.\n",
        "xmin, xmax = plt.xlim()\n",
        "x = np.linspace(xmin, xmax, 100)\n",
        "p = norm.pdf(x, mu, std) * (1/norm.pdf(mu, mu, std))\n",
        "plt.plot(x, p, 'k', linewidth=2)\n",
        "plt.plot(x, 1-p, 'b', linewidth=2)\n",
        "title = \"Fit results: mu = %.2f,  std = %.2f\" % (mu, std)\n",
        "plt.title(title)\n",
        "# plt.savefig(\"b.png\")\n",
        "plt.show()"
      ]
    },
    {
      "cell_type": "code",
      "execution_count": 7,
      "metadata": {
        "id": "BvTMU51Iaja3"
      },
      "outputs": [],
      "source": [
        "def get_fuzzy_value(x0, data):\n",
        "    mu, std = norm.fit(data)\n",
        "    \n",
        "    low = 1 - norm.pdf(x0, mu, std) * (1/norm.pdf(mu, mu, std)) if x0<mu else 0\n",
        "    medium = norm.pdf(x0, mu, std) * (1/norm.pdf(mu, mu, std))\n",
        "    high = 1 - norm.pdf(x0, mu, std) * (1/norm.pdf(mu, mu, std)) if x0>mu else 0\n",
        "    return low, medium, high"
      ]
    },
    {
      "cell_type": "code",
      "execution_count": null,
      "metadata": {
        "id": "JFuA66N2brpw"
      },
      "outputs": [],
      "source": []
    },
    {
      "cell_type": "code",
      "execution_count": 8,
      "metadata": {
        "colab": {
          "base_uri": "https://localhost:8080/"
        },
        "id": "IQ3hGVdQaZim",
        "outputId": "0f13029b-4f55-4656-d82d-87c864124207"
      },
      "outputs": [
        {
          "data": {
            "text/plain": [
              "(0.4067193562833866, 0.5932806437166134, 0)"
            ]
          },
          "execution_count": 8,
          "metadata": {},
          "output_type": "execute_result"
        }
      ],
      "source": [
        "x0 = 5.0\n",
        "low, medium, high = get_fuzzy_value(x0, iris.data[:,0])\n",
        "low, medium, high"
      ]
    },
    {
      "cell_type": "code",
      "execution_count": 9,
      "metadata": {
        "id": "GX17t_eJbu1k"
      },
      "outputs": [],
      "source": [
        "X_train, X_test, y_train, y_test = train_test_split(iris.data, iris.target, test_size=0.33, random_state=42, stratify=iris.target)"
      ]
    },
    {
      "cell_type": "code",
      "execution_count": 10,
      "metadata": {
        "colab": {
          "base_uri": "https://localhost:8080/",
          "height": 281
        },
        "id": "d2-354XSei-f",
        "outputId": "c9aaa857-d4fd-42bb-d3b1-66c7f2677247"
      },
      "outputs": [
        {
          "data": {
            "image/png": "[encoded data removed]",
            "text/plain": [
              "<Figure size 432x288 with 1 Axes>"
            ]
          },
          "metadata": {
            "needs_background": "light"
          },
          "output_type": "display_data"
        }
      ],
      "source": [
        "plt.hist(np.squeeze(X_train[np.argwhere(y_train==1)])[:,0]) \n",
        "plt.title(\"histogram\") \n",
        "plt.show()"
      ]
    },
    {
      "cell_type": "code",
      "execution_count": 11,
      "metadata": {
        "id": "jVRkDBNehizz"
      },
      "outputs": [],
      "source": [
        "# 0 -> sepal length (cm) -> low\n",
        "#      sepal width (cm)  -> high\n",
        "#      petal length (cm) -> low\n",
        "#      petal width (cm)  -> low"
      ]
    },
    {
      "cell_type": "code",
      "execution_count": 12,
      "metadata": {
        "id": "vtDSuon4h4-U"
      },
      "outputs": [],
      "source": [
        "# 1 -> sepal length (cm) -> medium\n",
        "#      sepal width (cm)  -> low\n",
        "#      petal length (cm) -> medium\n",
        "#      petal width (cm)  -> medium"
      ]
    },
    {
      "cell_type": "code",
      "execution_count": 13,
      "metadata": {
        "id": "-LOYP7moh8A3"
      },
      "outputs": [],
      "source": [
        "# 2 -> sepal length (cm) -> high\n",
        "#      sepal width (cm)  -> medium\n",
        "#      petal length (cm) -> high\n",
        "#      petal width (cm)  -> high"
      ]
    },
    {
      "cell_type": "code",
      "execution_count": 14,
      "metadata": {
        "id": "-w2UZGVMiAv4"
      },
      "outputs": [],
      "source": [
        "# sepal length (cm) -> low, petal length (cm) -> low, petal width (cm)  -> low -> 0\n",
        "# sepal length (cm) -> medium, petal length (cm) -> medium, petal width (cm)  -> medium -> 1\n",
        "# sepal length (cm) -> high, petal length (cm) -> high, petal width (cm)  -> high -> 2"
      ]
    },
    {
      "cell_type": "code",
      "execution_count": 15,
      "metadata": {
        "colab": {
          "base_uri": "https://localhost:8080/"
        },
        "id": "4tRNCnwVjlwf",
        "outputId": "cb6b0c78-09b0-4988-d726-26d73d47d531"
      },
      "outputs": [
        {
          "name": "stdout",
          "output_type": "stream",
          "text": [
            "[6.3 2.8 5.1 1.5] 2\n",
            "0\n",
            "0.9246698080946223\n",
            "0.2524096329141523\n"
          ]
        }
      ],
      "source": [
        "print(X_test[0], y_test[0])\n",
        "print(max(get_fuzzy_value(X_test[0][0], iris.data[:,0])[0], get_fuzzy_value(X_test[0][2], iris.data[:,2])[0], get_fuzzy_value(X_test[0][3], iris.data[:,3])[0]))\n",
        "print(max(get_fuzzy_value(X_test[0][0], iris.data[:,0])[1], get_fuzzy_value(X_test[0][2], iris.data[:,2])[1], get_fuzzy_value(X_test[0][3], iris.data[:,3])[1]))\n",
        "print(max(get_fuzzy_value(X_test[0][0], iris.data[:,0])[2], get_fuzzy_value(X_test[0][2], iris.data[:,2])[2], get_fuzzy_value(X_test[0][3], iris.data[:,3])[2]))"
      ]
    },
    {
      "cell_type": "code",
      "execution_count": 16,
      "metadata": {
        "colab": {
          "base_uri": "https://localhost:8080/",
          "height": 337
        },
        "id": "PyOrOvzfq3ON",
        "outputId": "fe2b107d-df3d-4aaa-8876-ea3b56952934"
      },
      "outputs": [
        {
          "name": "stdout",
          "output_type": "stream",
          "text": [
            "59.94646034311081\n"
          ]
        },
        {
          "data": {
            "image/png": "[encoded data removed]",
            "text/plain": [
              "<Figure size 576x360 with 1 Axes>"
            ]
          },
          "metadata": {
            "needs_background": "light"
          },
          "output_type": "display_data"
        }
      ],
      "source": [
        "import skfuzzy as fuzz\n",
        "import numpy as np\n",
        "import matplotlib.pyplot as plt\n",
        "\n",
        "x = np.arange(0, 100, 1)\n",
        "mfx = fuzz.trapmf(x, [33, 48.64, 51.36,  67])*0.92\n",
        "mfx2 = fuzz.trapmf(x, [67, 71.25, 95.75,  100])*0.25\n",
        "\n",
        "plt.figure(figsize=(8, 5))\n",
        "\n",
        "plt.plot(x,mfx2+ mfx, 'k')\n",
        "defuzz_centroid = fuzz.defuzz(x, mfx+mfx2, 'centroid')  # Same as skfuzzy.centroid\n",
        "print(defuzz_centroid)"
      ]
    },
    {
      "cell_type": "code",
      "execution_count": 17,
      "metadata": {
        "id": "j6rrKQ21sFKH"
      },
      "outputs": [],
      "source": [
        "def predict(x1, x2, x3):\n",
        "  x = np.arange(0, 100, 1)\n",
        "  mfx1 = fuzz.trapmf(x, [0, 16.5*x1, 33-16.5*x1,  33])*x1\n",
        "  mfx2 = fuzz.trapmf(x, [33, 33+17*x2, 67-17*x2,  67])*x2\n",
        "  mfx3 = fuzz.trapmf(x, [67, 67+16.5*x3, 100-16.5*x3,  100])*x3\n",
        "  centroid= fuzz.defuzz(x, mfx1+mfx2+mfx3, 'centroid')  # Same as skfuzzy.centroid\n",
        "  if centroid<=33:\n",
        "    return 0\n",
        "  if centroid<=67:\n",
        "    return 1\n",
        "  return 2\n",
        "predicted=[]\n",
        "\n",
        "for i in range(X_test.shape[0]):\n",
        "  x1=max(get_fuzzy_value(X_test[i][0], X_train[:,0])[0], get_fuzzy_value(X_test[i][2], X_train[:,2])[0], get_fuzzy_value(X_test[i][3], X_train[:,3])[0])\n",
        "  x2=max(get_fuzzy_value(X_test[i][0], X_train[:,0])[1], get_fuzzy_value(X_test[i][2], X_train[:,2])[1], get_fuzzy_value(X_test[i][3], X_train[:,3])[1])\n",
        "  x3=max(get_fuzzy_value(X_test[i][0], X_train[:,0])[2], get_fuzzy_value(X_test[i][2], X_train[:,2])[2], get_fuzzy_value(X_test[i][3], X_train[:,3])[2])\n",
        "  predicted.append(predict(x1,x2,x3))"
      ]
    },
    {
      "cell_type": "code",
      "execution_count": null,
      "metadata": {
        "colab": {
          "base_uri": "https://localhost:8080/"
        },
        "id": "gSEFWvJoyd1F",
        "outputId": "f5958a45-904c-4570-f068-b6582340ee67"
      },
      "outputs": [
        {
          "data": {
            "text/plain": [
              "0.48"
            ]
          },
          "execution_count": 28,
          "metadata": {},
          "output_type": "execute_result"
        }
      ],
      "source": [
        "from sklearn.metrics import f1_score\n",
        "f1_score(y_test, predicted, average='micro')\n"
      ]
    },
    {
      "cell_type": "code",
      "execution_count": null,
      "metadata": {
        "id": "AqCtpmYu-o8L"
      },
      "outputs": [],
      "source": []
    }
  ],
  "metadata": {
    "colab": {
      "collapsed_sections": [],
      "name": "iris_fuzzy.ipynb",
      "provenance": []
    },
    "kernelspec": {
      "display_name": "Python 3",
      "name": "python3"
    },
    "language_info": {
      "codemirror_mode": {
        "name": "ipython",
        "version": 3
      },
      "file_extension": ".py",
      "mimetype": "text/x-python",
      "name": "python",
      "nbconvert_exporter": "python",
      "pygments_lexer": "ipython3",
      "version": "3.8.5"
    }
  },
  "nbformat": 4,
  "nbformat_minor": 0
}
